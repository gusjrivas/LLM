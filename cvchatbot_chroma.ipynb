{
 "cells": [
  {
   "cell_type": "code",
   "execution_count": 7,
   "metadata": {},
   "outputs": [],
   "source": [
    "import os\n",
    "import langchain\n",
    "\n",
    "from langchain_groq import ChatGroq\n",
    "\n",
    "\n",
    "pinecone_key = os.getenv(\"PINECONE_API_KEY\")\n",
    "groq_key = os.getenv(\"GROQ_API_KEY\")\n",
    "\n",
    "chat = ChatGroq(\n",
    "    api_key=groq_key,\n",
    "    model_name=\"llama3-8b-8192\" \n",
    ")\n"
   ]
  },
  {
   "cell_type": "code",
   "execution_count": 8,
   "id": "56f9fa53",
   "metadata": {},
   "outputs": [
    {
     "name": "stderr",
     "output_type": "stream",
     "text": [
      "C:\\Users\\SHIFTA-0164\\AppData\\Local\\Temp\\ipykernel_39568\\1894570505.py:4: LangChainDeprecationWarning: The class `HuggingFaceEmbeddings` was deprecated in LangChain 0.2.2 and will be removed in 1.0. An updated version of the class exists in the :class:`~langchain-huggingface package and should be used instead. To use it run `pip install -U :class:`~langchain-huggingface` and import as `from :class:`~langchain_huggingface import HuggingFaceEmbeddings``.\n",
      "  embed_model = HuggingFaceEmbeddings(model_name=\"sentence-transformers/all-MiniLM-L6-v2\")\n",
      "c:\\LLM\\venv\\Lib\\site-packages\\tqdm\\auto.py:21: TqdmWarning: IProgress not found. Please update jupyter and ipywidgets. See https://ipywidgets.readthedocs.io/en/stable/user_install.html\n",
      "  from .autonotebook import tqdm as notebook_tqdm\n"
     ]
    },
    {
     "name": "stdout",
     "output_type": "stream",
     "text": [
      "384\n"
     ]
    }
   ],
   "source": [
    "from langchain_community.embeddings import HuggingFaceEmbeddings\n",
    "\n",
    "# Cargar el modelo de embeddings desde Hugging Face\n",
    "embed_model = HuggingFaceEmbeddings(model_name=\"sentence-transformers/all-MiniLM-L6-v2\")\n",
    "\n",
    "# Obtener la cantidad de dimensiones del embedding de la palabra 'hola'\n",
    "print(len(embed_model.embed_query('hola')))\n",
    "\n"
   ]
  },
  {
   "cell_type": "code",
   "execution_count": 25,
   "metadata": {},
   "outputs": [],
   "source": [
    "from langchain.document_loaders import PyPDFLoader\n",
    "\n",
    "# Función para cargar un solo archivo PDF\n",
    "def read_cv(cv_path):\n",
    "    loader = PyPDFLoader(cv_path)\n",
    "    documents = loader.load()\n",
    "    return documents\n",
    "\n",
    "# Ruta exacta del archivo de tu CV\n",
    "cv_path = r'c:\\Users\\SHIFTA-0164\\Downloads\\CV_GUSTAVO JULIAN RIVAS.pdf'\n",
    "\n",
    "# Cargar el CV\n",
    "doc_cv = read_cv(cv_path)"
   ]
  },
  {
   "cell_type": "code",
   "execution_count": 26,
   "metadata": {},
   "outputs": [],
   "source": [
    "# Función para leer todos los PDFs de un directorio (para tesis)\n",
    "def read_doc(directory):\n",
    "    file_loader = PyPDFDirectoryLoader(directory)\n",
    "    documents = file_loader.load()\n",
    "    return documents\n",
    "\n",
    "# Función para leer un único PDF (CV)\n",
    "def read_cv(file_path):\n",
    "    loader = PyPDFLoader(file_path)\n",
    "    documents = loader.load()\n",
    "    return documents\n",
    "\n",
    "\n",
    "\n",
    "# Leer CV (archivo único)\n",
    "cv_path = r'c:\\Users\\SHIFTA-0164\\Downloads\\CV_GUSTAVO JULIAN RIVAS.pdf'\n",
    "doc_cv = read_cv(cv_path)\n",
    "\n",
    "# Combinar documentos\n",
    "total =  doc_cv"
   ]
  },
  {
   "cell_type": "code",
   "execution_count": 27,
   "id": "d6c19679",
   "metadata": {},
   "outputs": [
    {
     "name": "stdout",
     "output_type": "stream",
     "text": [
      "Documentos embebidos y almacenados en Chroma ✅\n"
     ]
    }
   ],
   "source": [
    "from langchain.vectorstores import Chroma\n",
    "import os\n",
    "\n",
    "# Supongamos que ya cargaste tu documento (doc_cv o total)\n",
    "# doc_cv = [...]  # Lista de documentos Langchain\n",
    "\n",
    "# Creamos o conectamos a una base local de vectores\n",
    "vectorstore = Chroma.from_documents(\n",
    "    documents=doc_cv,\n",
    "    embedding=embed_model,\n",
    "    persist_directory=\"./chroma_db\"\n",
    ")\n",
    "\n",
    "# Guardar los vectores localmente\n",
    "vectorstore.persist()\n",
    "\n",
    "print(\"Documentos embebidos y almacenados en Chroma ✅\")\n"
   ]
  },
  {
   "cell_type": "code",
   "execution_count": 29,
   "metadata": {},
   "outputs": [
    {
     "name": "stdout",
     "output_type": "stream",
     "text": [
      "Respuesta generada por Groq:\n",
      "La respuesta es GUSTAVO.\n"
     ]
    }
   ],
   "source": [
    "import os\n",
    "from langchain.vectorstores import Chroma\n",
    "from langchain.embeddings import HuggingFaceEmbeddings\n",
    "from langchain_groq import ChatGroq\n",
    "from langchain.prompts import PromptTemplate\n",
    "from langchain.chains import LLMChain\n",
    "\n",
    "# Embeddings\n",
    "embedding = HuggingFaceEmbeddings(model_name=\"sentence-transformers/all-MiniLM-L6-v2\")\n",
    "\n",
    "# Conectar al vectorstore ya creado\n",
    "persist_dir = \"./chroma_db\"\n",
    "vectorstore = Chroma(persist_directory=persist_dir, embedding_function=embedding)\n",
    "\n",
    "# Buscar contexto relevante\n",
    "query = \"¿Cuál es el primer nombre?\"\n",
    "docs = vectorstore.similarity_search(query, k=3)\n",
    "contexto = \"\\n\".join([doc.page_content for doc in docs])\n",
    "\n",
    "# Prompt\n",
    "prompt = PromptTemplate(\n",
    "    input_variables=[\"context\", \"question\"],\n",
    "    template=\"\"\"\n",
    "Usá el siguiente contexto para responder la pregunta de forma clara y precisa:\n",
    "\n",
    "Contexto:\n",
    "{context}\n",
    "\n",
    "Pregunta:\n",
    "{question}\n",
    "\n",
    "Respuesta:\"\"\"\n",
    ")\n",
    "\n",
    "chat = ChatGroq(\n",
    "    api_key=os.getenv(\"GROQ_API_KEY\"),\n",
    "    model_name=\"llama3-8b-8192\"\n",
    ")\n",
    "\n",
    "qa_chain = LLMChain(llm=chat, prompt=prompt)\n",
    "\n",
    "respuesta = qa_chain.run({\"context\": contexto, \"question\": query})\n",
    "print(\"Respuesta generada por Groq:\")\n",
    "print(respuesta)\n"
   ]
  },
  {
   "cell_type": "code",
   "execution_count": 30,
   "metadata": {},
   "outputs": [
    {
     "name": "stdout",
     "output_type": "stream",
     "text": [
      "Respuesta generada por Groq:\n",
      "La respuesta es: Escuela Técnica N° 37, Hogar Naval Stella Maris (2006-2011) y Universidad de la Matanza (2012-2014).\n"
     ]
    }
   ],
   "source": [
    "query = \"¿Donde estudio informatica?\"\n",
    "docs = vectorstore.similarity_search(query, k=3)\n",
    "contexto = \"\\n\".join([doc.page_content for doc in docs])\n",
    "\n",
    "# Prompt\n",
    "prompt = PromptTemplate(\n",
    "    input_variables=[\"context\", \"question\"],\n",
    "    template=\"\"\"\n",
    "Usá el siguiente contexto para responder la pregunta de forma clara y precisa:\n",
    "\n",
    "Contexto:\n",
    "{context}\n",
    "\n",
    "Pregunta:\n",
    "{question}\n",
    "\n",
    "Respuesta:\"\"\"\n",
    ")\n",
    "\n",
    "chat = ChatGroq(\n",
    "    api_key=os.getenv(\"GROQ_API_KEY\"),\n",
    "    model_name=\"llama3-8b-8192\"\n",
    ")\n",
    "\n",
    "qa_chain = LLMChain(llm=chat, prompt=prompt)\n",
    "\n",
    "respuesta = qa_chain.run({\"context\": contexto, \"question\": query})\n",
    "print(\"Respuesta generada por Groq:\")\n",
    "print(respuesta)\n"
   ]
  }
 ],
 "metadata": {
  "kernelspec": {
   "display_name": "venv",
   "language": "python",
   "name": "python3"
  },
  "language_info": {
   "codemirror_mode": {
    "name": "ipython",
    "version": 3
   },
   "file_extension": ".py",
   "mimetype": "text/x-python",
   "name": "python",
   "nbconvert_exporter": "python",
   "pygments_lexer": "ipython3",
   "version": "3.11.5"
  }
 },
 "nbformat": 4,
 "nbformat_minor": 2
}
